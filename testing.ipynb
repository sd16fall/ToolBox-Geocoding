{
 "cells": [
  {
   "cell_type": "code",
   "execution_count": 10,
   "metadata": {
    "collapsed": false
   },
   "outputs": [
    {
     "name": "stdout",
     "output_type": "stream",
     "text": [
      "<!DOCTYPE html>\r\n",
      "<html>\r\n",
      "<head profile=\"http://www.w3.org/1999/xhtml/vocab\">\r\n",
      "    <meta http-equiv=\"Content-Type\" content=\"text/html; charset=utf-8\" />\n",
      "<link rel=\"shortcut icon\" href=\"http://www.olin.edu/favicon.ico\" type=\"image/vnd.microsoft.icon\" />\n",
      "<link rel=\"alternate\" type=\"application/rss+xml\" title=\"Front page feed\" href=\"http://www.olin.edu/rss.xml\" />\n",
      "    <meta http-equiv=\"x-ua-compatible\" content=\"ie=edge\">\r\n",
      "    <meta name=\"viewport\" content=\"width=device-width, initial-scale=1\">\r\n",
      "    <meta http-equiv=\"cleartype\" content=\"on\">\r\n",
      "    <title>Olin College</title>\r\n",
      "    <link type=\"text/css\" rel=\"stylesheet\" href=\"http://www.olin.edu/sites/default/files/css/css_FFMDRYZ2nSV6HGDyDVpm9-yNY8H0IkhZ90k-a2N9jFE.css\" media=\"all\" />\n",
      "<link type=\"text/css\" rel=\"stylesheet\" href=\"http://www.olin.e\n"
     ]
    }
   ],
   "source": [
    "import urllib2\n",
    "f = urllib2.urlopen(\"http://www.olin.edu\")\n",
    "print f.read(800)\n"
   ]
  },
  {
   "cell_type": "code",
   "execution_count": 11,
   "metadata": {
    "collapsed": false
   },
   "outputs": [
    {
     "name": "stdout",
     "output_type": "stream",
     "text": [
      "{u'results': [{u'address_components': [{u'long_name': u'Babson College Drive',\n",
      "                                        u'short_name': u'Babson College Drive',\n",
      "                                        u'types': [u'route']},\n",
      "                                       {u'long_name': u'Wellesley',\n",
      "                                        u'short_name': u'Wellesley',\n",
      "                                        u'types': [u'locality',\n",
      "                                                   u'political']},\n",
      "                                       {u'long_name': u'Norfolk County',\n",
      "                                        u'short_name': u'Norfolk County',\n",
      "                                        u'types': [u'administrative_area_level_2',\n",
      "                                                   u'political']},\n",
      "                                       {u'long_name': u'Massachusetts',\n",
      "                                        u'short_name': u'MA',\n",
      "                                        u'types': [u'administrative_area_level_1',\n",
      "                                                   u'political']},\n",
      "                                       {u'long_name': u'United States',\n",
      "                                        u'short_name': u'US',\n",
      "                                        u'types': [u'country',\n",
      "                                                   u'political']}],\n",
      "               u'formatted_address': u'Babson College Drive, Wellesley, MA, USA',\n",
      "               u'geometry': {u'bounds': {u'northeast': {u'lat': 42.299897,\n",
      "                                                        u'lng': -71.26081599999999},\n",
      "                                         u'southwest': {u'lat': 42.2964,\n",
      "                                                        u'lng': -71.26977}},\n",
      "                             u'location': {u'lat': 42.298139,\n",
      "                                           u'lng': -71.26532929999999},\n",
      "                             u'location_type': u'GEOMETRIC_CENTER',\n",
      "                             u'viewport': {u'northeast': {u'lat': 42.299897,\n",
      "                                                          u'lng': -71.26081599999999},\n",
      "                                           u'southwest': {u'lat': 42.2964,\n",
      "                                                          u'lng': -71.26977}}},\n",
      "               u'partial_match': True,\n",
      "               u'place_id': u'ChIJ07aZP0KB44kRSl1Z-EV_JyA',\n",
      "               u'types': [u'route']}],\n",
      " u'status': u'OK'}\n"
     ]
    }
   ],
   "source": [
    "import urllib2, json\n",
    "from pprint import pprint\n",
    "url = \"https://maps.googleapis.com/maps/api/geocode/json?address=BabsonCollege\"\n",
    "f = urllib2.urlopen(url)\n",
    "response_text = f.read()\n",
    "response_data = json.loads(response_text)\n",
    "pprint(response_data)"
   ]
  },
  {
   "cell_type": "code",
   "execution_count": null,
   "metadata": {
    "collapsed": true
   },
   "outputs": [],
   "source": []
  },
  {
   "cell_type": "code",
   "execution_count": 12,
   "metadata": {
    "collapsed": false
   },
   "outputs": [
    {
     "name": "stdout",
     "output_type": "stream",
     "text": [
      "Babson College Drive, Wellesley, MA, USA\n"
     ]
    }
   ],
   "source": [
    " print response_data[\"results\"][0][\"formatted_address\"]"
   ]
  },
  {
   "cell_type": "code",
   "execution_count": 13,
   "metadata": {
    "collapsed": false
   },
   "outputs": [
    {
     "name": "stdout",
     "output_type": "stream",
     "text": [
      "{u'lat': 42.298139, u'lng': -71.26532929999999}\n"
     ]
    }
   ],
   "source": [
    " print response_data[\"results\"][0][\"geometry\"][\"location\"]"
   ]
  },
  {
   "cell_type": "code",
   "execution_count": 14,
   "metadata": {
    "collapsed": true
   },
   "outputs": [],
   "source": [
    "def get_json(url):\n",
    "    \"\"\"\n",
    "    Given a properly formatted URL for a JSON web API request, return\n",
    "    a Python JSON object containing the response to that request.\n",
    "    \"\"\"\n",
    "    import urllib2, json\n",
    "    from pprint import pprint\n",
    "    f = urllib2.urlopen(url)\n",
    "    response_text = f.read()\n",
    "    response_data = json.loads(response_text)\n",
    "    pprint(response_data)"
   ]
  },
  {
   "cell_type": "code",
   "execution_count": 15,
   "metadata": {
    "collapsed": false,
    "scrolled": true
   },
   "outputs": [
    {
     "name": "stdout",
     "output_type": "stream",
     "text": [
      "{u'results': [{u'address_components': [{u'long_name': u'Babson College Drive',\n",
      "                                        u'short_name': u'Babson College Drive',\n",
      "                                        u'types': [u'route']},\n",
      "                                       {u'long_name': u'Wellesley',\n",
      "                                        u'short_name': u'Wellesley',\n",
      "                                        u'types': [u'locality',\n",
      "                                                   u'political']},\n",
      "                                       {u'long_name': u'Norfolk County',\n",
      "                                        u'short_name': u'Norfolk County',\n",
      "                                        u'types': [u'administrative_area_level_2',\n",
      "                                                   u'political']},\n",
      "                                       {u'long_name': u'Massachusetts',\n",
      "                                        u'short_name': u'MA',\n",
      "                                        u'types': [u'administrative_area_level_1',\n",
      "                                                   u'political']},\n",
      "                                       {u'long_name': u'United States',\n",
      "                                        u'short_name': u'US',\n",
      "                                        u'types': [u'country',\n",
      "                                                   u'political']}],\n",
      "               u'formatted_address': u'Babson College Drive, Wellesley, MA, USA',\n",
      "               u'geometry': {u'bounds': {u'northeast': {u'lat': 42.299897,\n",
      "                                                        u'lng': -71.26081599999999},\n",
      "                                         u'southwest': {u'lat': 42.2964,\n",
      "                                                        u'lng': -71.26977}},\n",
      "                             u'location': {u'lat': 42.298139,\n",
      "                                           u'lng': -71.26532929999999},\n",
      "                             u'location_type': u'GEOMETRIC_CENTER',\n",
      "                             u'viewport': {u'northeast': {u'lat': 42.299897,\n",
      "                                                          u'lng': -71.26081599999999},\n",
      "                                           u'southwest': {u'lat': 42.2964,\n",
      "                                                          u'lng': -71.26977}}},\n",
      "               u'partial_match': True,\n",
      "               u'place_id': u'ChIJ07aZP0KB44kRSl1Z-EV_JyA',\n",
      "               u'types': [u'route']}],\n",
      " u'status': u'OK'}\n"
     ]
    }
   ],
   "source": [
    "get_json(\"https://maps.googleapis.com/maps/api/geocode/json?address=BabsonCollege\")"
   ]
  },
  {
   "cell_type": "code",
   "execution_count": 40,
   "metadata": {
    "collapsed": true
   },
   "outputs": [],
   "source": [
    "def get_lat_long(place_name):\n",
    "    \"\"\"\n",
    "    Given a place name or address, return a (latitude, longitude) tuple\n",
    "    with the coordinates of the given place.\n",
    "\n",
    "    See https://developers.google.com/maps/documentation/geocoding/\n",
    "    for Google Maps Geocode API URL formatting requirements.\n",
    "    \"\"\"\n",
    "    import urllib2, json\n",
    "    from pprint import pprint\n",
    "    url = \"https://maps.googleapis.com/maps/api/geocode/json?address=\" + place_name\n",
    "    f = urllib2.urlopen(url)\n",
    "    response_text = f.read()\n",
    "    response_data = json.loads(response_text)\n",
    "    print response_data[\"results\"][0][\"geometry\"][\"location\"][\"lat\"] \n",
    "    print response_data[\"results\"][0][\"geometry\"][\"location\"][\"lng\"]"
   ]
  },
  {
   "cell_type": "code",
   "execution_count": 101,
   "metadata": {
    "collapsed": false,
    "scrolled": true
   },
   "outputs": [
    {
     "name": "stdout",
     "output_type": "stream",
     "text": [
      "42.3800977\n",
      "-71.1166286\n"
     ]
    }
   ],
   "source": [
    "get_lat_long(\"HarvardUniversity\")"
   ]
  },
  {
   "cell_type": "code",
   "execution_count": 23,
   "metadata": {
    "collapsed": false
   },
   "outputs": [],
   "source": [
    "def get_nearest_station(latitude, longitude):\n",
    "    \"\"\"\n",
    "    Given latitude and longitude strings, return a (station_name, distance)\n",
    "    tuple for the nearest MBTA station to the given coordinates.\n",
    "\n",
    "    See http://realtime.mbta.com/Portal/Home/Documents for URL\n",
    "    formatting requirements for the 'stopsbylocation' API.\n",
    "    \"\"\"\n",
    "    import urllib2, json\n",
    "    from pprint import pprint\n",
    "    url = \"http://realtime.mbta.com/developer/api/v2/stopsbylocation?api_key=wX9NwuHnZU2ToO7GmGR9uw&lat=\" + latitude + \"&lon=\" + longitude + \"&format=json\"\n",
    "    f = urllib2.urlopen(url)\n",
    "    response_text = f.read()\n",
    "    response_data = json.loads(response_text)\n",
    "    print response_data[\"stop\"][0][\"parent_station_name\"]"
   ]
  },
  {
   "cell_type": "code",
   "execution_count": 24,
   "metadata": {
    "collapsed": false
   },
   "outputs": [
    {
     "name": "stdout",
     "output_type": "stream",
     "text": [
      "Boylston\n"
     ]
    }
   ],
   "source": [
    "get_nearest_station(\"42.3530197143555\", \"-71.0645904541016\")"
   ]
  },
  {
   "cell_type": "code",
   "execution_count": 107,
   "metadata": {
    "collapsed": false
   },
   "outputs": [],
   "source": [
    "import urllib2, json\n",
    "from pprint import pprint\n",
    "    \n",
    "def find_stop_near(place_name):\n",
    "    url = \"https://maps.googleapis.com/maps/api/geocode/json?address=\" + place_name\n",
    "    f = urllib2.urlopen(url)\n",
    "    response_text = f.read()\n",
    "    response_data = json.loads(response_text)\n",
    "    latitude = str(response_data[\"results\"][0][\"geometry\"][\"location\"][\"lat\"])\n",
    "    longitude = str(response_data[\"results\"][0][\"geometry\"][\"location\"][\"lng\"])\n",
    "        \n",
    "    urla = \"http://realtime.mbta.com/developer/api/v2/stopsbylocation?api_key=wX9NwuHnZU2ToO7GmGR9uw&lat=\" + latitude + \"&lon=\" + longitude + \"&format=json\"\n",
    "    fa = urllib2.urlopen(urla)\n",
    "    response_texta = fa.read()\n",
    "    response_dataa = json.loads(response_texta)\n",
    "    print response_dataa[\"stop\"][0][\"stop_name\"]\n",
    "    print response_dataa[\"stop\"][0][\"distance\"]\n"
   ]
  },
  {
   "cell_type": "code",
   "execution_count": 108,
   "metadata": {
    "collapsed": false
   },
   "outputs": [
    {
     "name": "stdout",
     "output_type": "stream",
     "text": [
      "Massachusetts Ave @ Wendell St\n",
      "0.183475628495216\n"
     ]
    }
   ],
   "source": [
    "find_stop_near(\"HarvardUniversity\")"
   ]
  },
  {
   "cell_type": "code",
   "execution_count": null,
   "metadata": {
    "collapsed": true
   },
   "outputs": [],
   "source": []
  }
 ],
 "metadata": {
  "kernelspec": {
   "display_name": "Python 2",
   "language": "python",
   "name": "python2"
  },
  "language_info": {
   "codemirror_mode": {
    "name": "ipython",
    "version": 2
   },
   "file_extension": ".py",
   "mimetype": "text/x-python",
   "name": "python",
   "nbconvert_exporter": "python",
   "pygments_lexer": "ipython2",
   "version": "2.7.6"
  }
 },
 "nbformat": 4,
 "nbformat_minor": 1
}
